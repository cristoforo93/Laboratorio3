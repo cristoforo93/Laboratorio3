{
 "cells": [
  {
   "cell_type": "code",
   "execution_count": 1,
   "metadata": {},
   "outputs": [],
   "source": [
    "import numpy as np\n",
    "import pandas as pd\n",
    "import matplotlib as mpl\n",
    "from matplotlib import pyplot as plt\n",
    "\n",
    "import random as rnd"
   ]
  },
  {
   "attachments": {},
   "cell_type": "markdown",
   "metadata": {},
   "source": [
    "# Laboratorio 3"
   ]
  },
  {
   "attachments": {},
   "cell_type": "markdown",
   "metadata": {},
   "source": [
    "## Parte 1: NUMPY"
   ]
  },
  {
   "attachments": {},
   "cell_type": "markdown",
   "metadata": {},
   "source": [
    "### Ejercicio 1"
   ]
  },
  {
   "cell_type": "code",
   "execution_count": 2,
   "metadata": {},
   "outputs": [
    {
     "name": "stdout",
     "output_type": "stream",
     "text": [
      "El tamaño de bytes del array de 1000 booleanoes es:  1\n"
     ]
    }
   ],
   "source": [
    "array_booleano = np.ones(1000)\n",
    "array_booleano = np.array(array_booleano, dtype=bool)\n",
    "print('El tamaño de bytes del array de 1000 booleanoes es: ', array_booleano.itemsize)"
   ]
  },
  {
   "attachments": {},
   "cell_type": "markdown",
   "metadata": {},
   "source": [
    "### Ejercicio 2"
   ]
  },
  {
   "cell_type": "code",
   "execution_count": 3,
   "metadata": {},
   "outputs": [
    {
     "name": "stdout",
     "output_type": "stream",
     "text": [
      "[20 18 16 14 12 10  8  6  4  2]\n"
     ]
    }
   ],
   "source": [
    "enteros = list(range(1,1001))\n",
    "enteros_pares = []\n",
    "for i in enteros:\n",
    "    if (i % 2) == 0:\n",
    "        enteros_pares.append(i)\n",
    "enteros_pares.sort(reverse=True)\n",
    "enteros_pares = np.array(enteros_pares)\n",
    "print(enteros_pares[enteros_pares.size-10:])"
   ]
  },
  {
   "attachments": {},
   "cell_type": "markdown",
   "metadata": {},
   "source": [
    "### Ejercicio 3"
   ]
  },
  {
   "cell_type": "code",
   "execution_count": 4,
   "metadata": {},
   "outputs": [
    {
     "name": "stdout",
     "output_type": "stream",
     "text": [
      "[0 3 7 4]\n"
     ]
    }
   ],
   "source": [
    "arr = np.array([[2,4,5,6],\n",
    "                [0,3,7,4],\n",
    "                [8,8,5,2],\n",
    "                [1,5,6,1]])\n",
    "print(arr[1])"
   ]
  },
  {
   "attachments": {},
   "cell_type": "markdown",
   "metadata": {},
   "source": [
    "### Ejercicio 4"
   ]
  },
  {
   "cell_type": "code",
   "execution_count": 5,
   "metadata": {},
   "outputs": [
    {
     "name": "stdout",
     "output_type": "stream",
     "text": [
      "La meadia de la diferencia (a-b) es:  -0.25\n"
     ]
    }
   ],
   "source": [
    "a = np.array([1,4,2,7])\n",
    "b = np.array([1,3,2,9])\n",
    "resta = a-b\n",
    "media = np.mean(resta)\n",
    "print('La meadia de la diferencia (a-b) es: ', media)"
   ]
  },
  {
   "attachments": {},
   "cell_type": "markdown",
   "metadata": {},
   "source": [
    "### Ejercicio 5"
   ]
  },
  {
   "cell_type": "code",
   "execution_count": 6,
   "metadata": {},
   "outputs": [
    {
     "name": "stdout",
     "output_type": "stream",
     "text": [
      "[[ 1.33  4.5 ]\n",
      " [30.   10.7 ]\n",
      " [70.2   0.5 ]\n",
      " [37.1  -3.6 ]]\n"
     ]
    }
   ],
   "source": [
    "arr = np.array([[1.33,4.5],\n",
    "                [30.0,10.7],\n",
    "                [70.2,0.5]])\n",
    "coo = np.array([[37.1,-3.6]])\n",
    "arr = np.append(arr,coo,axis=0)\n",
    "print(arr)"
   ]
  },
  {
   "attachments": {},
   "cell_type": "markdown",
   "metadata": {},
   "source": [
    "## Parte 2"
   ]
  },
  {
   "cell_type": "code",
   "execution_count": 7,
   "metadata": {},
   "outputs": [],
   "source": [
    "df_nucleos = pd.read_csv('Lab_3/NucleosPoblacion.csv')"
   ]
  },
  {
   "attachments": {},
   "cell_type": "markdown",
   "metadata": {},
   "source": [
    "### Ejercicio 1"
   ]
  },
  {
   "cell_type": "code",
   "execution_count": 8,
   "metadata": {},
   "outputs": [
    {
     "name": "stdout",
     "output_type": "stream",
     "text": [
      "62\n"
     ]
    }
   ],
   "source": [
    "print(len(df_nucleos[df_nucleos['Poblacion']>100000]))"
   ]
  },
  {
   "attachments": {},
   "cell_type": "markdown",
   "metadata": {},
   "source": [
    "Existen 62 ciudades en nuestro DataFrame cuya población es mayor a 100000 habitantes."
   ]
  },
  {
   "attachments": {},
   "cell_type": "markdown",
   "metadata": {},
   "source": [
    "### Ejercicio 2"
   ]
  },
  {
   "cell_type": "code",
   "execution_count": 9,
   "metadata": {},
   "outputs": [
    {
     "data": {
      "text/plain": [
       "<BarContainer object of 852 artists>"
      ]
     },
     "execution_count": 9,
     "metadata": {},
     "output_type": "execute_result"
    },
    {
     "data": {
      "image/png": "[encoded data removed]",
      "text/plain": [
       "<Figure size 640x480 with 1 Axes>"
      ]
     },
     "metadata": {},
     "output_type": "display_data"
    }
   ],
   "source": [
    "df_pob = df_nucleos.sort_values(by=['Poblacion'])\n",
    "plt.bar(df_pob['Texto'],\n",
    "               df_pob['Poblacion'])"
   ]
  },
  {
   "cell_type": "code",
   "execution_count": 10,
   "metadata": {},
   "outputs": [
    {
     "data": {
      "text/plain": [
       "FID                623\n",
       "OBJECTID           624\n",
       "Texto        Barcelona\n",
       "Poblacion    1619337.0\n",
       "CodMun            8019\n",
       "Municipio    Barcelona\n",
       "CodProvin            8\n",
       "Provincia    Barcelona\n",
       "X             2.176349\n",
       "Y            41.384247\n",
       "Name: 623, dtype: object"
      ]
     },
     "execution_count": 10,
     "metadata": {},
     "output_type": "execute_result"
    }
   ],
   "source": [
    "df_pob.iloc[len(df_pob)-2]"
   ]
  },
  {
   "attachments": {},
   "cell_type": "markdown",
   "metadata": {},
   "source": [
    "#### (a) ¿Cuál es la segunda ciudad más poblada?\n",
    "La segunda ciudad más poblada es Barcelona."
   ]
  },
  {
   "cell_type": "code",
   "execution_count": 11,
   "metadata": {},
   "outputs": [
    {
     "data": {
      "text/plain": [
       "Int64Index([834], dtype='int64')"
      ]
     },
     "execution_count": 11,
     "metadata": {},
     "output_type": "execute_result"
    }
   ],
   "source": [
    "df_pob = df_pob.reset_index(drop=True)\n",
    "df_pob[df_pob['Texto'] == 'Granada'].index"
   ]
  },
  {
   "attachments": {},
   "cell_type": "markdown",
   "metadata": {},
   "source": [
    "#### (b) ¿Qué posición ocupa Granada en el ranking de las ciudades más pobladas?\n",
    "La ciudad de Granada es la ciudad número 835 más poblada, de menor a mayor población."
   ]
  },
  {
   "attachments": {},
   "cell_type": "markdown",
   "metadata": {},
   "source": [
    "### Ejercicio 3"
   ]
  },
  {
   "cell_type": "code",
   "execution_count": 12,
   "metadata": {},
   "outputs": [
    {
     "name": "stdout",
     "output_type": "stream",
     "text": [
      "Empty DataFrame\n",
      "Columns: [FID, OBJECTID, Texto, Poblacion, CodMun, Municipio, CodProvin, Provincia, X, Y]\n",
      "Index: []\n"
     ]
    }
   ],
   "source": [
    "print(df_pob[df_pob['Provincia'] == 'Extremadura'])"
   ]
  },
  {
   "attachments": {},
   "cell_type": "markdown",
   "metadata": {},
   "source": [
    "Debido a que la Provincia Extremadura no se encuentra en la base de datos no podemos saber cuáles de sus municipios cuentan con más de 5000 habitantes."
   ]
  },
  {
   "attachments": {},
   "cell_type": "markdown",
   "metadata": {},
   "source": [
    "### Ejercicio 4"
   ]
  },
  {
   "cell_type": "code",
   "execution_count": 13,
   "metadata": {},
   "outputs": [
    {
     "name": "stdout",
     "output_type": "stream",
     "text": [
      "     FID  OBJECTID    Texto  Poblacion  CodMun Municipio  CodProvin Provincia  \\\n",
      "317  104       105  Viveiro    16211.0   27066   Viveiro         27      Lugo   \n",
      "\n",
      "            X          Y  \n",
      "317 -7.588768  43.625578  \n"
     ]
    }
   ],
   "source": [
    "max_Y = df_pob['Y'].idxmax()\n",
    "print(df_pob.iloc[[max_Y]])"
   ]
  },
  {
   "attachments": {},
   "cell_type": "markdown",
   "metadata": {},
   "source": [
    "De esto podemos ver que el Municipio más al norte es Viveiro."
   ]
  },
  {
   "attachments": {},
   "cell_type": "markdown",
   "metadata": {},
   "source": [
    "### Ejercicio 5"
   ]
  },
  {
   "cell_type": "code",
   "execution_count": 14,
   "metadata": {},
   "outputs": [
    {
     "name": "stdout",
     "output_type": "stream",
     "text": [
      "count        20.000000\n",
      "mean      30217.850000\n",
      "std       50355.491715\n",
      "min       10386.000000\n",
      "25%       13146.500000\n",
      "50%       17526.000000\n",
      "75%       21739.750000\n",
      "max      239154.000000\n",
      "Name: Poblacion, dtype: float64\n"
     ]
    }
   ],
   "source": [
    "granada = df_pob[df_pob['Provincia'] == 'Granada']\n",
    "granada = granada.reset_index(drop=True)\n",
    "\n",
    "print(granada['Poblacion'].describe())"
   ]
  },
  {
   "attachments": {},
   "cell_type": "markdown",
   "metadata": {},
   "source": [
    "Podemos ver que la información de la siguiente manera:\n",
    "* Media = 30217.85\n",
    "* Desviación estándar = 50355.49\n",
    "* Mínimo = 10386.50\n",
    "* Máximo = 239154.00"
   ]
  },
  {
   "attachments": {},
   "cell_type": "markdown",
   "metadata": {},
   "source": [
    "### Ejercicio 6"
   ]
  },
  {
   "cell_type": "code",
   "execution_count": 15,
   "metadata": {},
   "outputs": [
    {
     "data": {
      "image/png": "[encoded data removed]",
      "text/plain": [
       "<Figure size 640x480 with 1 Axes>"
      ]
     },
     "metadata": {},
     "output_type": "display_data"
    }
   ],
   "source": [
    "provincias = pd.unique(df_pob['Provincia'])\n",
    "\n",
    "for prov in provincias:\n",
    "    df_aux = df_pob[df_pob['Provincia'] == prov]\n",
    "    plt.bar(df_aux['Municipio'],\n",
    "            df_aux['Poblacion'])"
   ]
  },
  {
   "attachments": {},
   "cell_type": "markdown",
   "metadata": {},
   "source": [
    "### Ejercicio 7"
   ]
  },
  {
   "cell_type": "code",
   "execution_count": 16,
   "metadata": {},
   "outputs": [
    {
     "name": "stdout",
     "output_type": "stream",
     "text": [
      "count        50.000000\n",
      "mean      34963.260000\n",
      "std       54838.460973\n",
      "min       10245.000000\n",
      "25%       12580.500000\n",
      "50%       15388.000000\n",
      "75%       25881.000000\n",
      "max      315522.000000\n",
      "Name: Poblacion, dtype: float64\n"
     ]
    }
   ],
   "source": [
    "num_aleatorios = rnd.sample(range(len(df_pob)),50)\n",
    "\n",
    "prov_aleatorias = df_pob.iloc[num_aleatorios]\n",
    "print(prov_aleatorias['Poblacion'].describe())"
   ]
  },
  {
   "attachments": {},
   "cell_type": "markdown",
   "metadata": {},
   "source": [
    "De las 50 provincias aleatorias podemos ver lo siguiente:\n",
    "* Media = 54976.54\n",
    "* Desviación estándar = 106802.04"
   ]
  }
 ],
 "metadata": {
  "kernelspec": {
   "display_name": "base",
   "language": "python",
   "name": "python3"
  },
  "language_info": {
   "codemirror_mode": {
    "name": "ipython",
    "version": 3
   },
   "file_extension": ".py",
   "mimetype": "text/x-python",
   "name": "python",
   "nbconvert_exporter": "python",
   "pygments_lexer": "ipython3",
   "version": "3.9.13"
  },
  "orig_nbformat": 4
 },
 "nbformat": 4,
 "nbformat_minor": 2
}
